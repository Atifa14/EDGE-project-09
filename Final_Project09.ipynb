{
  "nbformat": 4,
  "nbformat_minor": 0,
  "metadata": {
    "colab": {
      "provenance": [],
      "authorship_tag": "ABX9TyO8GGSc7UbyNfYxUd8lPJaT",
      "include_colab_link": true
    },
    "kernelspec": {
      "name": "python3",
      "display_name": "Python 3"
    },
    "language_info": {
      "name": "python"
    }
  },
  "cells": [
    {
      "cell_type": "markdown",
      "metadata": {
        "id": "view-in-github",
        "colab_type": "text"
      },
      "source": [
        "<a href=\"https://colab.research.google.com/github/Atifa14/EDGE-project-09/blob/main/Final_Project09.ipynb\" target=\"_parent\"><img src=\"https://colab.research.google.com/assets/colab-badge.svg\" alt=\"Open In Colab\"/></a>"
      ]
    },
    {
      "cell_type": "code",
      "execution_count": null,
      "metadata": {
        "colab": {
          "base_uri": "https://localhost:8080/"
        },
        "id": "2vFb7FwtOKut",
        "outputId": "b34837b7-bc02-4711-8b37-9cdd57391d45"
      },
      "outputs": [
        {
          "output_type": "stream",
          "name": "stdout",
          "text": [
            "Atifa\n"
          ]
        }
      ],
      "source": [
        "print (\"Atifa\")"
      ]
    },
    {
      "cell_type": "markdown",
      "source": [
        "#Data Collection and Storage\n"
      ],
      "metadata": {
        "id": "kDXCagomn6Qn"
      }
    },
    {
      "cell_type": "code",
      "source": [
        "import csv"
      ],
      "metadata": {
        "id": "Igkl82RDmbHn"
      },
      "execution_count": 4,
      "outputs": []
    },
    {
      "cell_type": "code",
      "source": [
        "with open(\"student_data.csv\", \"w\", newline='') as file:\n",
        "    writer = csv.writer(file)\n",
        "    writer.writerow([\"Student ID\", \"Student Name\", \"Subject\", \"Score\", \"Attendance Percentage\", \"Assignment Completion\"])"
      ],
      "metadata": {
        "id": "_4Bt_actmc2m"
      },
      "execution_count": 11,
      "outputs": []
    },
    {
      "cell_type": "code",
      "source": [
        "def add_record():\n",
        "\n",
        "  with open(\"student_data.csv\", \"a\") as file:\n",
        "      writer = csv.writer(file)\n",
        "\n",
        "\n",
        "      student_id = input(\"Enter Student ID : \")\n",
        "      student_name = input(\"Enter Student Name: \")\n",
        "      subject = input(\"Enter Subject: \")\n",
        "      score = input(\"Enter Score: \")\n",
        "      attendance = input(\"Enter Attendance Percentage: \")\n",
        "      assignment = input(\"Enter Assignment Completion (Yes/No): \")\n",
        "      writer.writerow([student_id, student_name, subject, score, attendance, assignment])\n",
        "\n",
        "      file.close()\n",
        "\n",
        "      print(\"Data written to student_data.csv\")"
      ],
      "metadata": {
        "id": "XAft2husmczW"
      },
      "execution_count": 2,
      "outputs": []
    },
    {
      "cell_type": "code",
      "source": [
        "with open(\"student_data.csv\", \"r\") as file:\n",
        "    print(file.read())"
      ],
      "metadata": {
        "colab": {
          "base_uri": "https://localhost:8080/"
        },
        "id": "bMPgYekwmcue",
        "outputId": "ef921c41-7add-4719-abc5-9dae50210589"
      },
      "execution_count": 1,
      "outputs": [
        {
          "output_type": "stream",
          "name": "stdout",
          "text": [
            "Student ID,Student Name,Subject,Score,Attendance Percentage,Assignment Completion\n",
            "001,Atifa,PHY,87,90,Yes\n",
            "001,Atifa,ANP,85,90,Yes\n",
            "001,Atifa,EEE,56,85,No\n",
            "002,Kafi,SWE,84,89,No\n",
            "002,Kafi,EEE,78,75,Yes\n",
            "003,Tarin,LLB,65,86,Yes\n",
            "003,Tarin,ENG,75,50,No\n",
            "004,Bela,BNG,90,90,Yes\n",
            "004,Bela,ENG,40,65,No\n",
            "005,Nishat,OCG,58,50,No\n",
            "005,Nishat,SOC,60,50,No\n",
            "\n"
          ]
        }
      ]
    },
    {
      "cell_type": "code",
      "source": [
        "while True:\n",
        "  print(\"Menu\")\n",
        "  print(\"1. Add Record\")\n",
        "  print(\"2. Search Record\")\n",
        "  print(\"3. Update Record\")\n",
        "  print(\"4. Delete Record\")\n",
        "  print(\"5. Exit\")\n",
        "  choice = input(\"Enter your choice: (1-5) \")\n",
        "\n",
        "  if choice == \"1\":\n",
        "    add_record()\n",
        "  if choice == \"2\":\n",
        "    search_record()\n",
        "  if choice == \"3\":\n",
        "    update_record()\n",
        "  if choice == \"4\":\n",
        "    delete_record()\n",
        "  if choice == \"5\":\n",
        "    exit()\n",
        "    break"
      ],
      "metadata": {
        "colab": {
          "base_uri": "https://localhost:8080/"
        },
        "id": "STKyCXdVmcme",
        "outputId": "81cc9f78-6516-41a0-e108-690826a1ec28"
      },
      "execution_count": 3,
      "outputs": [
        {
          "name": "stdout",
          "output_type": "stream",
          "text": [
            "Menu\n",
            "1. Add Record\n",
            "2. Search Record\n",
            "3. Update Record\n",
            "4. Delete Record\n",
            "5. Exit\n",
            "Enter your choice: (1-5) 5\n"
          ]
        }
      ]
    },
    {
      "cell_type": "markdown",
      "source": [
        "#Read CSV"
      ],
      "metadata": {
        "id": "6uJtIvviq5qg"
      }
    },
    {
      "cell_type": "code",
      "source": [
        "def getinfo(student_id):\n",
        "  with open(\"student_data.csv\", \"r\") as file:\n",
        "    reader = csv.reader(file)\n",
        "    for row in reader:\n",
        "      if row[0] == student_id:\n",
        "       return row"
      ],
      "metadata": {
        "id": "LL5Af1etnTSH"
      },
      "execution_count": 1,
      "outputs": []
    },
    {
      "cell_type": "code",
      "source": [
        "print(getinfo(\"001\"))"
      ],
      "metadata": {
        "id": "7MpuTN7lnTOl",
        "colab": {
          "base_uri": "https://localhost:8080/"
        },
        "outputId": "3a3ecd12-4ce5-402f-9286-a5dc3e09a6b1"
      },
      "execution_count": 4,
      "outputs": [
        {
          "output_type": "stream",
          "name": "stdout",
          "text": [
            "['001', 'Atifa', 'PHY', '87', '90', 'Yes']\n"
          ]
        }
      ]
    },
    {
      "cell_type": "markdown",
      "source": [
        "#Modify Score"
      ],
      "metadata": {
        "id": "I979965Hwmmi"
      }
    },
    {
      "cell_type": "code",
      "source": [
        "def modify_score():\n",
        "  student_id = input(\"Enter Student ID to modify: \")\n",
        "  subject= input(\"Enter Subject to modify: \")\n",
        "  with open(\"student_data.csv\", \"r\") as file:\n",
        "    reader = csv.reader(file)\n",
        "    data= list(reader)\n",
        "    for row in data:\n",
        "      if row[0] == student_id and row[2] == subject:\n",
        "        row[3] = input(\"Enter new score: \")\n",
        "        break\n",
        "        print(\"Subject not found\")\n",
        "        break\n",
        "  with open(\"student_data.csv\", \"w\") as file:\n",
        "    writer = csv.writer(file)\n",
        "    writer.writerows(data)\n",
        "    print(\"Score modified successfully\")"
      ],
      "metadata": {
        "id": "n36dqMybnTGm"
      },
      "execution_count": 7,
      "outputs": []
    },
    {
      "cell_type": "code",
      "source": [
        "while True:\n",
        "  print(\"Menu\")\n",
        "  print(\"1. Modify Score\")\n",
        "  print(\"2. Exit\")\n",
        "  choice = input(\"Enter your choice: (1-2) \")\n",
        "\n",
        "  if choice == \"1\":\n",
        "    modify_score()\n",
        "  if choice == \"2\":\n",
        "    exit()\n",
        "    break"
      ],
      "metadata": {
        "colab": {
          "base_uri": "https://localhost:8080/"
        },
        "id": "HRv7Wz69v3G5",
        "outputId": "0d91a1d3-19d8-4b21-c322-76adc5c99876"
      },
      "execution_count": 8,
      "outputs": [
        {
          "name": "stdout",
          "output_type": "stream",
          "text": [
            "Menu\n",
            "1. Modify Score\n",
            "2. Exit\n",
            "Enter your choice: (1-2) 1\n",
            "Enter Student ID to modify: 004\n",
            "Enter Subject to modify: ENG\n",
            "Enter new score: 50\n",
            "Score modified successfully\n",
            "Menu\n",
            "1. Modify Score\n",
            "2. Exit\n",
            "Enter your choice: (1-2) 2\n"
          ]
        }
      ]
    },
    {
      "cell_type": "markdown",
      "source": [
        "#Data Analysis and Manipulation"
      ],
      "metadata": {
        "id": "apVuyKaJwyEC"
      }
    },
    {
      "cell_type": "markdown",
      "source": [
        "mean,min and max"
      ],
      "metadata": {
        "id": "7G8snUB02X9T"
      }
    },
    {
      "cell_type": "code",
      "source": [
        "import pandas as pd"
      ],
      "metadata": {
        "id": "quqvXMFPwuGy"
      },
      "execution_count": 1,
      "outputs": []
    },
    {
      "cell_type": "code",
      "source": [
        "data= pd.read_csv(\"student_data.csv\")"
      ],
      "metadata": {
        "id": "urTRcjYtwt-6"
      },
      "execution_count": 2,
      "outputs": []
    },
    {
      "cell_type": "code",
      "source": [
        "data"
      ],
      "metadata": {
        "colab": {
          "base_uri": "https://localhost:8080/",
          "height": 411
        },
        "id": "lmo1HOkRwt6R",
        "outputId": "9c0b18c8-9e65-4c37-94a1-f7c5ce43e2cb"
      },
      "execution_count": 3,
      "outputs": [
        {
          "output_type": "execute_result",
          "data": {
            "text/plain": [
              "    Student ID Student Name Subject  Score  Attendance Percentage  \\\n",
              "0            1        Atifa     PHY     85                     90   \n",
              "1            1        Atifa     ANP     85                     90   \n",
              "2            1        Atifa     EEE     56                     85   \n",
              "3            2         Kafi     SWE     84                     89   \n",
              "4            2         Kafi     EEE     78                     75   \n",
              "5            3        Tarin     LLB     65                     86   \n",
              "6            3        Tarin     ENG     75                     50   \n",
              "7            4         Bela     BNG     90                     90   \n",
              "8            4         Bela     ENG     50                     65   \n",
              "9            5       Nishat     OCG     58                     50   \n",
              "10           5       Nishat     SOC     60                     50   \n",
              "\n",
              "   Assignment Completion  \n",
              "0                    Yes  \n",
              "1                    Yes  \n",
              "2                     No  \n",
              "3                     No  \n",
              "4                    Yes  \n",
              "5                    Yes  \n",
              "6                     No  \n",
              "7                    Yes  \n",
              "8                     No  \n",
              "9                     No  \n",
              "10                    No  "
            ],
            "text/html": [
              "\n",
              "  <div id=\"df-095b4ae0-c612-4960-b39e-2c332bf43f15\" class=\"colab-df-container\">\n",
              "    <div>\n",
              "<style scoped>\n",
              "    .dataframe tbody tr th:only-of-type {\n",
              "        vertical-align: middle;\n",
              "    }\n",
              "\n",
              "    .dataframe tbody tr th {\n",
              "        vertical-align: top;\n",
              "    }\n",
              "\n",
              "    .dataframe thead th {\n",
              "        text-align: right;\n",
              "    }\n",
              "</style>\n",
              "<table border=\"1\" class=\"dataframe\">\n",
              "  <thead>\n",
              "    <tr style=\"text-align: right;\">\n",
              "      <th></th>\n",
              "      <th>Student ID</th>\n",
              "      <th>Student Name</th>\n",
              "      <th>Subject</th>\n",
              "      <th>Score</th>\n",
              "      <th>Attendance Percentage</th>\n",
              "      <th>Assignment Completion</th>\n",
              "    </tr>\n",
              "  </thead>\n",
              "  <tbody>\n",
              "    <tr>\n",
              "      <th>0</th>\n",
              "      <td>1</td>\n",
              "      <td>Atifa</td>\n",
              "      <td>PHY</td>\n",
              "      <td>85</td>\n",
              "      <td>90</td>\n",
              "      <td>Yes</td>\n",
              "    </tr>\n",
              "    <tr>\n",
              "      <th>1</th>\n",
              "      <td>1</td>\n",
              "      <td>Atifa</td>\n",
              "      <td>ANP</td>\n",
              "      <td>85</td>\n",
              "      <td>90</td>\n",
              "      <td>Yes</td>\n",
              "    </tr>\n",
              "    <tr>\n",
              "      <th>2</th>\n",
              "      <td>1</td>\n",
              "      <td>Atifa</td>\n",
              "      <td>EEE</td>\n",
              "      <td>56</td>\n",
              "      <td>85</td>\n",
              "      <td>No</td>\n",
              "    </tr>\n",
              "    <tr>\n",
              "      <th>3</th>\n",
              "      <td>2</td>\n",
              "      <td>Kafi</td>\n",
              "      <td>SWE</td>\n",
              "      <td>84</td>\n",
              "      <td>89</td>\n",
              "      <td>No</td>\n",
              "    </tr>\n",
              "    <tr>\n",
              "      <th>4</th>\n",
              "      <td>2</td>\n",
              "      <td>Kafi</td>\n",
              "      <td>EEE</td>\n",
              "      <td>78</td>\n",
              "      <td>75</td>\n",
              "      <td>Yes</td>\n",
              "    </tr>\n",
              "    <tr>\n",
              "      <th>5</th>\n",
              "      <td>3</td>\n",
              "      <td>Tarin</td>\n",
              "      <td>LLB</td>\n",
              "      <td>65</td>\n",
              "      <td>86</td>\n",
              "      <td>Yes</td>\n",
              "    </tr>\n",
              "    <tr>\n",
              "      <th>6</th>\n",
              "      <td>3</td>\n",
              "      <td>Tarin</td>\n",
              "      <td>ENG</td>\n",
              "      <td>75</td>\n",
              "      <td>50</td>\n",
              "      <td>No</td>\n",
              "    </tr>\n",
              "    <tr>\n",
              "      <th>7</th>\n",
              "      <td>4</td>\n",
              "      <td>Bela</td>\n",
              "      <td>BNG</td>\n",
              "      <td>90</td>\n",
              "      <td>90</td>\n",
              "      <td>Yes</td>\n",
              "    </tr>\n",
              "    <tr>\n",
              "      <th>8</th>\n",
              "      <td>4</td>\n",
              "      <td>Bela</td>\n",
              "      <td>ENG</td>\n",
              "      <td>50</td>\n",
              "      <td>65</td>\n",
              "      <td>No</td>\n",
              "    </tr>\n",
              "    <tr>\n",
              "      <th>9</th>\n",
              "      <td>5</td>\n",
              "      <td>Nishat</td>\n",
              "      <td>OCG</td>\n",
              "      <td>58</td>\n",
              "      <td>50</td>\n",
              "      <td>No</td>\n",
              "    </tr>\n",
              "    <tr>\n",
              "      <th>10</th>\n",
              "      <td>5</td>\n",
              "      <td>Nishat</td>\n",
              "      <td>SOC</td>\n",
              "      <td>60</td>\n",
              "      <td>50</td>\n",
              "      <td>No</td>\n",
              "    </tr>\n",
              "  </tbody>\n",
              "</table>\n",
              "</div>\n",
              "    <div class=\"colab-df-buttons\">\n",
              "\n",
              "  <div class=\"colab-df-container\">\n",
              "    <button class=\"colab-df-convert\" onclick=\"convertToInteractive('df-095b4ae0-c612-4960-b39e-2c332bf43f15')\"\n",
              "            title=\"Convert this dataframe to an interactive table.\"\n",
              "            style=\"display:none;\">\n",
              "\n",
              "  <svg xmlns=\"http://www.w3.org/2000/svg\" height=\"24px\" viewBox=\"0 -960 960 960\">\n",
              "    <path d=\"M120-120v-720h720v720H120Zm60-500h600v-160H180v160Zm220 220h160v-160H400v160Zm0 220h160v-160H400v160ZM180-400h160v-160H180v160Zm440 0h160v-160H620v160ZM180-180h160v-160H180v160Zm440 0h160v-160H620v160Z\"/>\n",
              "  </svg>\n",
              "    </button>\n",
              "\n",
              "  <style>\n",
              "    .colab-df-container {\n",
              "      display:flex;\n",
              "      gap: 12px;\n",
              "    }\n",
              "\n",
              "    .colab-df-convert {\n",
              "      background-color: #E8F0FE;\n",
              "      border: none;\n",
              "      border-radius: 50%;\n",
              "      cursor: pointer;\n",
              "      display: none;\n",
              "      fill: #1967D2;\n",
              "      height: 32px;\n",
              "      padding: 0 0 0 0;\n",
              "      width: 32px;\n",
              "    }\n",
              "\n",
              "    .colab-df-convert:hover {\n",
              "      background-color: #E2EBFA;\n",
              "      box-shadow: 0px 1px 2px rgba(60, 64, 67, 0.3), 0px 1px 3px 1px rgba(60, 64, 67, 0.15);\n",
              "      fill: #174EA6;\n",
              "    }\n",
              "\n",
              "    .colab-df-buttons div {\n",
              "      margin-bottom: 4px;\n",
              "    }\n",
              "\n",
              "    [theme=dark] .colab-df-convert {\n",
              "      background-color: #3B4455;\n",
              "      fill: #D2E3FC;\n",
              "    }\n",
              "\n",
              "    [theme=dark] .colab-df-convert:hover {\n",
              "      background-color: #434B5C;\n",
              "      box-shadow: 0px 1px 3px 1px rgba(0, 0, 0, 0.15);\n",
              "      filter: drop-shadow(0px 1px 2px rgba(0, 0, 0, 0.3));\n",
              "      fill: #FFFFFF;\n",
              "    }\n",
              "  </style>\n",
              "\n",
              "    <script>\n",
              "      const buttonEl =\n",
              "        document.querySelector('#df-095b4ae0-c612-4960-b39e-2c332bf43f15 button.colab-df-convert');\n",
              "      buttonEl.style.display =\n",
              "        google.colab.kernel.accessAllowed ? 'block' : 'none';\n",
              "\n",
              "      async function convertToInteractive(key) {\n",
              "        const element = document.querySelector('#df-095b4ae0-c612-4960-b39e-2c332bf43f15');\n",
              "        const dataTable =\n",
              "          await google.colab.kernel.invokeFunction('convertToInteractive',\n",
              "                                                    [key], {});\n",
              "        if (!dataTable) return;\n",
              "\n",
              "        const docLinkHtml = 'Like what you see? Visit the ' +\n",
              "          '<a target=\"_blank\" href=https://colab.research.google.com/notebooks/data_table.ipynb>data table notebook</a>'\n",
              "          + ' to learn more about interactive tables.';\n",
              "        element.innerHTML = '';\n",
              "        dataTable['output_type'] = 'display_data';\n",
              "        await google.colab.output.renderOutput(dataTable, element);\n",
              "        const docLink = document.createElement('div');\n",
              "        docLink.innerHTML = docLinkHtml;\n",
              "        element.appendChild(docLink);\n",
              "      }\n",
              "    </script>\n",
              "  </div>\n",
              "\n",
              "\n",
              "<div id=\"df-d6714677-b6ad-4195-86b2-079e7a4c4655\">\n",
              "  <button class=\"colab-df-quickchart\" onclick=\"quickchart('df-d6714677-b6ad-4195-86b2-079e7a4c4655')\"\n",
              "            title=\"Suggest charts\"\n",
              "            style=\"display:none;\">\n",
              "\n",
              "<svg xmlns=\"http://www.w3.org/2000/svg\" height=\"24px\"viewBox=\"0 0 24 24\"\n",
              "     width=\"24px\">\n",
              "    <g>\n",
              "        <path d=\"M19 3H5c-1.1 0-2 .9-2 2v14c0 1.1.9 2 2 2h14c1.1 0 2-.9 2-2V5c0-1.1-.9-2-2-2zM9 17H7v-7h2v7zm4 0h-2V7h2v10zm4 0h-2v-4h2v4z\"/>\n",
              "    </g>\n",
              "</svg>\n",
              "  </button>\n",
              "\n",
              "<style>\n",
              "  .colab-df-quickchart {\n",
              "      --bg-color: #E8F0FE;\n",
              "      --fill-color: #1967D2;\n",
              "      --hover-bg-color: #E2EBFA;\n",
              "      --hover-fill-color: #174EA6;\n",
              "      --disabled-fill-color: #AAA;\n",
              "      --disabled-bg-color: #DDD;\n",
              "  }\n",
              "\n",
              "  [theme=dark] .colab-df-quickchart {\n",
              "      --bg-color: #3B4455;\n",
              "      --fill-color: #D2E3FC;\n",
              "      --hover-bg-color: #434B5C;\n",
              "      --hover-fill-color: #FFFFFF;\n",
              "      --disabled-bg-color: #3B4455;\n",
              "      --disabled-fill-color: #666;\n",
              "  }\n",
              "\n",
              "  .colab-df-quickchart {\n",
              "    background-color: var(--bg-color);\n",
              "    border: none;\n",
              "    border-radius: 50%;\n",
              "    cursor: pointer;\n",
              "    display: none;\n",
              "    fill: var(--fill-color);\n",
              "    height: 32px;\n",
              "    padding: 0;\n",
              "    width: 32px;\n",
              "  }\n",
              "\n",
              "  .colab-df-quickchart:hover {\n",
              "    background-color: var(--hover-bg-color);\n",
              "    box-shadow: 0 1px 2px rgba(60, 64, 67, 0.3), 0 1px 3px 1px rgba(60, 64, 67, 0.15);\n",
              "    fill: var(--button-hover-fill-color);\n",
              "  }\n",
              "\n",
              "  .colab-df-quickchart-complete:disabled,\n",
              "  .colab-df-quickchart-complete:disabled:hover {\n",
              "    background-color: var(--disabled-bg-color);\n",
              "    fill: var(--disabled-fill-color);\n",
              "    box-shadow: none;\n",
              "  }\n",
              "\n",
              "  .colab-df-spinner {\n",
              "    border: 2px solid var(--fill-color);\n",
              "    border-color: transparent;\n",
              "    border-bottom-color: var(--fill-color);\n",
              "    animation:\n",
              "      spin 1s steps(1) infinite;\n",
              "  }\n",
              "\n",
              "  @keyframes spin {\n",
              "    0% {\n",
              "      border-color: transparent;\n",
              "      border-bottom-color: var(--fill-color);\n",
              "      border-left-color: var(--fill-color);\n",
              "    }\n",
              "    20% {\n",
              "      border-color: transparent;\n",
              "      border-left-color: var(--fill-color);\n",
              "      border-top-color: var(--fill-color);\n",
              "    }\n",
              "    30% {\n",
              "      border-color: transparent;\n",
              "      border-left-color: var(--fill-color);\n",
              "      border-top-color: var(--fill-color);\n",
              "      border-right-color: var(--fill-color);\n",
              "    }\n",
              "    40% {\n",
              "      border-color: transparent;\n",
              "      border-right-color: var(--fill-color);\n",
              "      border-top-color: var(--fill-color);\n",
              "    }\n",
              "    60% {\n",
              "      border-color: transparent;\n",
              "      border-right-color: var(--fill-color);\n",
              "    }\n",
              "    80% {\n",
              "      border-color: transparent;\n",
              "      border-right-color: var(--fill-color);\n",
              "      border-bottom-color: var(--fill-color);\n",
              "    }\n",
              "    90% {\n",
              "      border-color: transparent;\n",
              "      border-bottom-color: var(--fill-color);\n",
              "    }\n",
              "  }\n",
              "</style>\n",
              "\n",
              "  <script>\n",
              "    async function quickchart(key) {\n",
              "      const quickchartButtonEl =\n",
              "        document.querySelector('#' + key + ' button');\n",
              "      quickchartButtonEl.disabled = true;  // To prevent multiple clicks.\n",
              "      quickchartButtonEl.classList.add('colab-df-spinner');\n",
              "      try {\n",
              "        const charts = await google.colab.kernel.invokeFunction(\n",
              "            'suggestCharts', [key], {});\n",
              "      } catch (error) {\n",
              "        console.error('Error during call to suggestCharts:', error);\n",
              "      }\n",
              "      quickchartButtonEl.classList.remove('colab-df-spinner');\n",
              "      quickchartButtonEl.classList.add('colab-df-quickchart-complete');\n",
              "    }\n",
              "    (() => {\n",
              "      let quickchartButtonEl =\n",
              "        document.querySelector('#df-d6714677-b6ad-4195-86b2-079e7a4c4655 button');\n",
              "      quickchartButtonEl.style.display =\n",
              "        google.colab.kernel.accessAllowed ? 'block' : 'none';\n",
              "    })();\n",
              "  </script>\n",
              "</div>\n",
              "\n",
              "  <div id=\"id_f599f57d-9779-4af7-a94a-e3ac39808047\">\n",
              "    <style>\n",
              "      .colab-df-generate {\n",
              "        background-color: #E8F0FE;\n",
              "        border: none;\n",
              "        border-radius: 50%;\n",
              "        cursor: pointer;\n",
              "        display: none;\n",
              "        fill: #1967D2;\n",
              "        height: 32px;\n",
              "        padding: 0 0 0 0;\n",
              "        width: 32px;\n",
              "      }\n",
              "\n",
              "      .colab-df-generate:hover {\n",
              "        background-color: #E2EBFA;\n",
              "        box-shadow: 0px 1px 2px rgba(60, 64, 67, 0.3), 0px 1px 3px 1px rgba(60, 64, 67, 0.15);\n",
              "        fill: #174EA6;\n",
              "      }\n",
              "\n",
              "      [theme=dark] .colab-df-generate {\n",
              "        background-color: #3B4455;\n",
              "        fill: #D2E3FC;\n",
              "      }\n",
              "\n",
              "      [theme=dark] .colab-df-generate:hover {\n",
              "        background-color: #434B5C;\n",
              "        box-shadow: 0px 1px 3px 1px rgba(0, 0, 0, 0.15);\n",
              "        filter: drop-shadow(0px 1px 2px rgba(0, 0, 0, 0.3));\n",
              "        fill: #FFFFFF;\n",
              "      }\n",
              "    </style>\n",
              "    <button class=\"colab-df-generate\" onclick=\"generateWithVariable('data')\"\n",
              "            title=\"Generate code using this dataframe.\"\n",
              "            style=\"display:none;\">\n",
              "\n",
              "  <svg xmlns=\"http://www.w3.org/2000/svg\" height=\"24px\"viewBox=\"0 0 24 24\"\n",
              "       width=\"24px\">\n",
              "    <path d=\"M7,19H8.4L18.45,9,17,7.55,7,17.6ZM5,21V16.75L18.45,3.32a2,2,0,0,1,2.83,0l1.4,1.43a1.91,1.91,0,0,1,.58,1.4,1.91,1.91,0,0,1-.58,1.4L9.25,21ZM18.45,9,17,7.55Zm-12,3A5.31,5.31,0,0,0,4.9,8.1,5.31,5.31,0,0,0,1,6.5,5.31,5.31,0,0,0,4.9,4.9,5.31,5.31,0,0,0,6.5,1,5.31,5.31,0,0,0,8.1,4.9,5.31,5.31,0,0,0,12,6.5,5.46,5.46,0,0,0,6.5,12Z\"/>\n",
              "  </svg>\n",
              "    </button>\n",
              "    <script>\n",
              "      (() => {\n",
              "      const buttonEl =\n",
              "        document.querySelector('#id_f599f57d-9779-4af7-a94a-e3ac39808047 button.colab-df-generate');\n",
              "      buttonEl.style.display =\n",
              "        google.colab.kernel.accessAllowed ? 'block' : 'none';\n",
              "\n",
              "      buttonEl.onclick = () => {\n",
              "        google.colab.notebook.generateWithVariable('data');\n",
              "      }\n",
              "      })();\n",
              "    </script>\n",
              "  </div>\n",
              "\n",
              "    </div>\n",
              "  </div>\n"
            ],
            "application/vnd.google.colaboratory.intrinsic+json": {
              "type": "dataframe",
              "variable_name": "data",
              "summary": "{\n  \"name\": \"data\",\n  \"rows\": 11,\n  \"fields\": [\n    {\n      \"column\": \"Student ID\",\n      \"properties\": {\n        \"dtype\": \"number\",\n        \"std\": 1,\n        \"min\": 1,\n        \"max\": 5,\n        \"num_unique_values\": 5,\n        \"samples\": [\n          2,\n          5,\n          3\n        ],\n        \"semantic_type\": \"\",\n        \"description\": \"\"\n      }\n    },\n    {\n      \"column\": \"Student Name\",\n      \"properties\": {\n        \"dtype\": \"category\",\n        \"num_unique_values\": 5,\n        \"samples\": [\n          \"Kafi\",\n          \"Nishat\",\n          \"Tarin\"\n        ],\n        \"semantic_type\": \"\",\n        \"description\": \"\"\n      }\n    },\n    {\n      \"column\": \"Subject\",\n      \"properties\": {\n        \"dtype\": \"string\",\n        \"num_unique_values\": 9,\n        \"samples\": [\n          \"OCG\",\n          \"ANP\",\n          \"ENG\"\n        ],\n        \"semantic_type\": \"\",\n        \"description\": \"\"\n      }\n    },\n    {\n      \"column\": \"Score\",\n      \"properties\": {\n        \"dtype\": \"number\",\n        \"std\": 14,\n        \"min\": 50,\n        \"max\": 90,\n        \"num_unique_values\": 10,\n        \"samples\": [\n          58,\n          56,\n          75\n        ],\n        \"semantic_type\": \"\",\n        \"description\": \"\"\n      }\n    },\n    {\n      \"column\": \"Attendance Percentage\",\n      \"properties\": {\n        \"dtype\": \"number\",\n        \"std\": 17,\n        \"min\": 50,\n        \"max\": 90,\n        \"num_unique_values\": 7,\n        \"samples\": [\n          90,\n          85,\n          50\n        ],\n        \"semantic_type\": \"\",\n        \"description\": \"\"\n      }\n    },\n    {\n      \"column\": \"Assignment Completion\",\n      \"properties\": {\n        \"dtype\": \"category\",\n        \"num_unique_values\": 2,\n        \"samples\": [\n          \"No\",\n          \"Yes\"\n        ],\n        \"semantic_type\": \"\",\n        \"description\": \"\"\n      }\n    }\n  ]\n}"
            }
          },
          "metadata": {},
          "execution_count": 3
        }
      ]
    },
    {
      "cell_type": "code",
      "source": [
        "student_stats= data.groupby(['Student ID','Student Name'])['Score'].agg(['mean', 'max', 'min'])\n",
        "student_stats = student_stats.rename(columns={\n",
        "    'mean': 'Average Score',\n",
        "    'max': 'Highest Score',\n",
        "    'min': 'Lowest Score'\n",
        "})\n",
        "print(student_stats)"
      ],
      "metadata": {
        "colab": {
          "base_uri": "https://localhost:8080/"
        },
        "id": "IRLconvOwt1x",
        "outputId": "71e5094e-e520-422c-f9ad-db21268bd690"
      },
      "execution_count": 4,
      "outputs": [
        {
          "output_type": "stream",
          "name": "stdout",
          "text": [
            "                         Average Score  Highest Score  Lowest Score\n",
            "Student ID Student Name                                            \n",
            "1          Atifa             75.333333             85            56\n",
            "2          Kafi              81.000000             84            78\n",
            "3          Tarin             70.000000             75            65\n",
            "4          Bela              70.000000             90            50\n",
            "5          Nishat            59.000000             60            58\n"
          ]
        }
      ]
    },
    {
      "cell_type": "markdown",
      "source": [
        "Attendence <75% or missing assignments"
      ],
      "metadata": {
        "id": "LoLvtJwZ2fH0"
      }
    },
    {
      "cell_type": "code",
      "source": [
        "low_attendence_or_missing_assignments = data[(data['Attendance Percentage'] < 75) | (data['Assignment Completion'] == 'No')]\n",
        "print(low_attendence_or_missing_assignments)"
      ],
      "metadata": {
        "colab": {
          "base_uri": "https://localhost:8080/"
        },
        "id": "xKjkXUOxwtvx",
        "outputId": "7d7e88ad-4d67-4c09-f187-62e90f80f4bd"
      },
      "execution_count": 5,
      "outputs": [
        {
          "output_type": "stream",
          "name": "stdout",
          "text": [
            "    Student ID Student Name Subject  Score  Attendance Percentage  \\\n",
            "2            1        Atifa     EEE     56                     85   \n",
            "3            2         Kafi     SWE     84                     89   \n",
            "6            3        Tarin     ENG     75                     50   \n",
            "8            4         Bela     ENG     50                     65   \n",
            "9            5       Nishat     OCG     58                     50   \n",
            "10           5       Nishat     SOC     60                     50   \n",
            "\n",
            "   Assignment Completion  \n",
            "2                     No  \n",
            "3                     No  \n",
            "6                     No  \n",
            "8                     No  \n",
            "9                     No  \n",
            "10                    No  \n"
          ]
        }
      ]
    },
    {
      "cell_type": "markdown",
      "source": [
        "Filter students failing a subject"
      ],
      "metadata": {
        "id": "z2J5FvV329l8"
      }
    },
    {
      "cell_type": "code",
      "source": [
        "data['Score'] = pd.to_numeric(data['Score'])\n",
        "failed_students = data[(data['Score'] < 60) & (data['Subject'] == 'ENG')][['Student ID','Student Name','Subject']]\n",
        "print(failed_students)"
      ],
      "metadata": {
        "colab": {
          "base_uri": "https://localhost:8080/"
        },
        "id": "RoMiBjCh3Ckc",
        "outputId": "b3f19b42-f3a6-4c3c-a8b6-8595a239e453"
      },
      "execution_count": 10,
      "outputs": [
        {
          "output_type": "stream",
          "name": "stdout",
          "text": [
            "   Student ID Student Name Subject\n",
            "8           4         Bela     ENG\n"
          ]
        }
      ]
    },
    {
      "cell_type": "markdown",
      "source": [
        "Convert score to integer"
      ],
      "metadata": {
        "id": "uJqPPFR74P-b"
      }
    },
    {
      "cell_type": "code",
      "source": [
        "if data['Score'].dtype == 'str':\n",
        "  print(\"Score is stored as an string\")\n",
        "  if data['Score'].dtype\n",
        "    data['Score'] = data['Score'].astype(int)"
      ],
      "metadata": {
        "id": "guzUAJWZwtdT"
      },
      "execution_count": null,
      "outputs": []
    },
    {
      "cell_type": "markdown",
      "source": [
        "#Visualization"
      ],
      "metadata": {
        "id": "afVww_1i43jw"
      }
    },
    {
      "cell_type": "code",
      "source": [
        "import matplotlib.pyplot as plt"
      ],
      "metadata": {
        "id": "vjVYTrl227ss"
      },
      "execution_count": 11,
      "outputs": []
    },
    {
      "cell_type": "code",
      "source": [
        "average_scores = data.groupby('Student ID')['Score'].mean()\n",
        "average_scores.plot(kind='bar', title='Average Scores',figsize=(7,5))\n",
        "plt.xlabel('Subject')\n",
        "plt.ylabel('Average Score')\n",
        "plt.show()"
      ],
      "metadata": {
        "colab": {
          "base_uri": "https://localhost:8080/",
          "height": 482
        },
        "id": "KObEi0Vq27lk",
        "outputId": "0ae76cc9-d1e4-44a5-8fb4-aec0b0450da9"
      },
      "execution_count": 12,
      "outputs": [
        {
          "output_type": "display_data",
          "data": {
            "text/plain": [
              "<Figure size 700x500 with 1 Axes>"
            ],
            "image/png": "[encoded data removed]"
          },
          "metadata": {}
        }
      ]
    },
    {
      "cell_type": "markdown",
      "source": [
        "Pie chart of attendence"
      ],
      "metadata": {
        "id": "oCbFbP1h50iP"
      }
    },
    {
      "cell_type": "code",
      "source": [],
      "metadata": {
        "id": "MyrCPsA627iG"
      },
      "execution_count": null,
      "outputs": []
    }
  ]
}