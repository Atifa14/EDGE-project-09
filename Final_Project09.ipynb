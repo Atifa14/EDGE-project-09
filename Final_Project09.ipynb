{
  "nbformat": 4,
  "nbformat_minor": 0,
  "metadata": {
    "colab": {
      "provenance": [],
      "mount_file_id": "1UzmtrpRM60O121oIzjOzfuEOix2dbudi",
      "authorship_tag": "ABX9TyPmiH5173FKBW4ZotUwdo8h",
      "include_colab_link": true
    },
    "kernelspec": {
      "name": "python3",
      "display_name": "Python 3"
    },
    "language_info": {
      "name": "python"
    }
  },
  "cells": [
    {
      "cell_type": "markdown",
      "metadata": {
        "id": "view-in-github",
        "colab_type": "text"
      },
      "source": [
        "<a href=\"https://colab.research.google.com/github/Atifa14/EDGE-project-09/blob/main/Final_Project09.ipynb\" target=\"_parent\"><img src=\"https://colab.research.google.com/assets/colab-badge.svg\" alt=\"Open In Colab\"/></a>"
      ]
    },
    {
      "cell_type": "code",
      "execution_count": 2,
      "metadata": {
        "colab": {
          "base_uri": "https://localhost:8080/"
        },
        "id": "2vFb7FwtOKut",
        "outputId": "76aabd23-ea6b-466f-c249-19f6dfa36a72"
      },
      "outputs": [
        {
          "output_type": "stream",
          "name": "stdout",
          "text": [
            "Atifa\n"
          ]
        }
      ],
      "source": [
        "print (\"Atifa\")"
      ]
    },
    {
      "cell_type": "markdown",
      "source": [
        "#Data Collection and Storage\n"
      ],
      "metadata": {
        "id": "kDXCagomn6Qn"
      }
    },
    {
      "cell_type": "code",
      "source": [
        "import csv"
      ],
      "metadata": {
        "id": "Igkl82RDmbHn"
      },
      "execution_count": 3,
      "outputs": []
    },
    {
      "cell_type": "code",
      "source": [
        "with open(\"student_data.csv\", \"w\", newline='') as file:\n",
        "    writer = csv.writer(file)\n",
        "    writer.writerow([\"Student ID\", \"Student Name\", \"Subject\", \"Score\", \"Attendance Percentage\", \"Assignment Completion\"])"
      ],
      "metadata": {
        "id": "_4Bt_actmc2m"
      },
      "execution_count": 4,
      "outputs": []
    },
    {
      "cell_type": "code",
      "source": [
        "def add_record():\n",
        "\n",
        "  with open(\"student_data.csv\", \"a\") as file:\n",
        "      writer = csv.writer(file)\n",
        "\n",
        "\n",
        "      student_id = input(\"Enter Student ID : \")\n",
        "      student_name = input(\"Enter Student Name: \")\n",
        "      subject = input(\"Enter Subject: \")\n",
        "      score = input(\"Enter Score: \")\n",
        "      attendance = input(\"Enter Attendance Percentage: \")\n",
        "      assignment = input(\"Enter Assignment Completion (Yes/No): \")\n",
        "      writer.writerow([student_id, student_name, subject, score, attendance, assignment])\n",
        "\n",
        "      file.close()\n",
        "\n",
        "      print(\"Data written to student_data.csv\")"
      ],
      "metadata": {
        "id": "XAft2husmczW"
      },
      "execution_count": 5,
      "outputs": []
    },
    {
      "cell_type": "code",
      "source": [
        "with open(\"student_data.csv\", \"r\") as file:\n",
        "    print(file.read())"
      ],
      "metadata": {
        "colab": {
          "base_uri": "https://localhost:8080/"
        },
        "id": "bMPgYekwmcue",
        "outputId": "126922b4-692a-4afe-c49f-6c02626a72f6"
      },
      "execution_count": 6,
      "outputs": [
        {
          "output_type": "stream",
          "name": "stdout",
          "text": [
            "Student ID,Student Name,Subject,Score,Attendance Percentage,Assignment Completion\n",
            "\n"
          ]
        }
      ]
    },
    {
      "cell_type": "markdown",
      "source": [
        "**Interactive Console**"
      ],
      "metadata": {
        "id": "46Sug-eIyx0j"
      }
    },
    {
      "cell_type": "code",
      "source": [
        "while True:\n",
        "  print(\"Menu\")\n",
        "  print(\"1. Add Record\")\n",
        "  print(\"2. Search Record\")\n",
        "  print(\"3. Update Record\")\n",
        "  print(\"4. Delete Record\")\n",
        "  print(\"5. Exit\")\n",
        "  choice = input(\"Enter your choice: (1-5) \")\n",
        "\n",
        "  if choice == \"1\":\n",
        "    add_record()\n",
        "  if choice == \"2\":\n",
        "    search_record()\n",
        "  if choice == \"3\":\n",
        "    update_record()\n",
        "  if choice == \"4\":\n",
        "    delete_record()\n",
        "  if choice == \"5\":\n",
        "    exit()\n",
        "    break"
      ],
      "metadata": {
        "colab": {
          "base_uri": "https://localhost:8080/"
        },
        "id": "STKyCXdVmcme",
        "outputId": "01fd4ed3-ba9c-401d-de95-2fe025955d06"
      },
      "execution_count": 7,
      "outputs": [
        {
          "name": "stdout",
          "output_type": "stream",
          "text": [
            "Menu\n",
            "1. Add Record\n",
            "2. Search Record\n",
            "3. Update Record\n",
            "4. Delete Record\n",
            "5. Exit\n",
            "Enter your choice: (1-5) 1\n",
            "Enter Student ID : 001\n",
            "Enter Student Name: Atifa\n",
            "Enter Subject: STA\n",
            "Enter Score: 89\n",
            "Enter Attendance Percentage: 90\n",
            "Enter Assignment Completion (Yes/No): Yes\n",
            "Data written to student_data.csv\n",
            "Menu\n",
            "1. Add Record\n",
            "2. Search Record\n",
            "3. Update Record\n",
            "4. Delete Record\n",
            "5. Exit\n",
            "Enter your choice: (1-5) 1\n",
            "Enter Student ID : 001\n",
            "Enter Student Name: Atifa\n",
            "Enter Subject: MAT\n",
            "Enter Score: 75\n",
            "Enter Attendance Percentage: 80\n",
            "Enter Assignment Completion (Yes/No): Yes\n",
            "Data written to student_data.csv\n",
            "Menu\n",
            "1. Add Record\n",
            "2. Search Record\n",
            "3. Update Record\n",
            "4. Delete Record\n",
            "5. Exit\n",
            "Enter your choice: (1-5) 1\n",
            "Enter Student ID : 002\n",
            "Enter Student Name: Kafi\n",
            "Enter Subject: SWE\n",
            "Enter Score: 90\n",
            "Enter Attendance Percentage: 100\n",
            "Enter Assignment Completion (Yes/No): No\n",
            "Data written to student_data.csv\n",
            "Menu\n",
            "1. Add Record\n",
            "2. Search Record\n",
            "3. Update Record\n",
            "4. Delete Record\n",
            "5. Exit\n",
            "Enter your choice: (1-5) 1\n",
            "Enter Student ID : 002\n",
            "Enter Student Name: Kafi\n",
            "Enter Subject: MAT\n",
            "Enter Score: 85\n",
            "Enter Attendance Percentage: 80\n",
            "Enter Assignment Completion (Yes/No): Yes\n",
            "Data written to student_data.csv\n",
            "Menu\n",
            "1. Add Record\n",
            "2. Search Record\n",
            "3. Update Record\n",
            "4. Delete Record\n",
            "5. Exit\n",
            "Enter your choice: (1-5) 1\n",
            "Enter Student ID : 003\n",
            "Enter Student Name: Nabisha\n",
            "Enter Subject: BNG\n",
            "Enter Score: 65\n",
            "Enter Attendance Percentage: 75\n",
            "Enter Assignment Completion (Yes/No): No\n",
            "Data written to student_data.csv\n",
            "Menu\n",
            "1. Add Record\n",
            "2. Search Record\n",
            "3. Update Record\n",
            "4. Delete Record\n",
            "5. Exit\n",
            "Enter your choice: (1-5) 1\n",
            "Enter Student ID : 003\n",
            "Enter Student Name: Nabisha\n",
            "Enter Subject: BBA\n",
            "Enter Score: 45\n",
            "Enter Attendance Percentage: 60\n",
            "Enter Assignment Completion (Yes/No): No\n",
            "Data written to student_data.csv\n",
            "Menu\n",
            "1. Add Record\n",
            "2. Search Record\n",
            "3. Update Record\n",
            "4. Delete Record\n",
            "5. Exit\n",
            "Enter your choice: (1-5) 1\n",
            "Enter Student ID : 004\n",
            "Enter Student Name: Samiya\n",
            "Enter Subject: EEE\n",
            "Enter Score: 64\n",
            "Enter Attendance Percentage: 65\n",
            "Enter Assignment Completion (Yes/No): Yes\n",
            "Data written to student_data.csv\n",
            "Menu\n",
            "1. Add Record\n",
            "2. Search Record\n",
            "3. Update Record\n",
            "4. Delete Record\n",
            "5. Exit\n",
            "Enter your choice: (1-5) 1\n",
            "Enter Student ID : 004\n",
            "Enter Student Name: Samiya\n",
            "Enter Subject: PHY\n",
            "Enter Score: 65\n",
            "Enter Attendance Percentage: 60\n",
            "Enter Assignment Completion (Yes/No): No\n",
            "Data written to student_data.csv\n",
            "Menu\n",
            "1. Add Record\n",
            "2. Search Record\n",
            "3. Update Record\n",
            "4. Delete Record\n",
            "5. Exit\n",
            "Enter your choice: (1-5) 1\n",
            "Enter Student ID : 005\n",
            "Enter Student Name: Mofiz\n",
            "Enter Subject: MAT\n",
            "Enter Score: 82\n",
            "Enter Attendance Percentage: 60\n",
            "Enter Assignment Completion (Yes/No): Yes\n",
            "Data written to student_data.csv\n",
            "Menu\n",
            "1. Add Record\n",
            "2. Search Record\n",
            "3. Update Record\n",
            "4. Delete Record\n",
            "5. Exit\n",
            "Enter your choice: (1-5) 5\n"
          ]
        }
      ]
    },
    {
      "cell_type": "markdown",
      "source": [
        "#Read CSV"
      ],
      "metadata": {
        "id": "6uJtIvviq5qg"
      }
    },
    {
      "cell_type": "code",
      "source": [
        "def getinfo(student_id):\n",
        "  with open(\"student_data.csv\", \"r\") as file:\n",
        "    reader = csv.reader(file)\n",
        "    for row in reader:\n",
        "      if row[0] == student_id:\n",
        "       return row"
      ],
      "metadata": {
        "id": "LL5Af1etnTSH"
      },
      "execution_count": 1,
      "outputs": []
    },
    {
      "cell_type": "code",
      "source": [
        "print(getinfo(\"001\"))"
      ],
      "metadata": {
        "id": "7MpuTN7lnTOl",
        "colab": {
          "base_uri": "https://localhost:8080/"
        },
        "outputId": "bccd2a95-d692-4142-82ee-8206ef831313"
      },
      "execution_count": 4,
      "outputs": [
        {
          "output_type": "stream",
          "name": "stdout",
          "text": [
            "['001', 'Atifa', 'STA', '89', '90', 'Yes']\n"
          ]
        }
      ]
    },
    {
      "cell_type": "markdown",
      "source": [
        "Modify score"
      ],
      "metadata": {
        "id": "I979965Hwmmi"
      }
    },
    {
      "cell_type": "code",
      "source": [
        "def modify_score():\n",
        "  student_id = input(\"Enter Student ID to modify: \")\n",
        "  subject= input(\"Enter Subject to modify: \")\n",
        "  with open(\"student_data.csv\", \"r\") as file:\n",
        "    reader = csv.reader(file)\n",
        "    data= list(reader)\n",
        "    for row in data:\n",
        "      if row[0] == student_id and row[2] == subject:\n",
        "        row[3] = input(\"Enter new score: \")\n",
        "        break\n",
        "        print(\"Subject not found\")\n",
        "        break\n",
        "  with open(\"student_data.csv\", \"w\") as file:\n",
        "    writer = csv.writer(file)\n",
        "    writer.writerows(data)\n",
        "    print(\"Score modified successfully\")"
      ],
      "metadata": {
        "id": "n36dqMybnTGm"
      },
      "execution_count": 5,
      "outputs": []
    },
    {
      "cell_type": "code",
      "source": [
        "while True:\n",
        "  print(\"Menu\")\n",
        "  print(\"1. Modify Score\")\n",
        "  print(\"2. Exit\")\n",
        "  choice = input(\"Enter your choice: (1-2) \")\n",
        "\n",
        "  if choice == \"1\":\n",
        "    modify_score()\n",
        "  if choice == \"2\":\n",
        "    exit()\n",
        "    break"
      ],
      "metadata": {
        "colab": {
          "base_uri": "https://localhost:8080/"
        },
        "id": "HRv7Wz69v3G5",
        "outputId": "78c45fc1-fa5a-4c53-b50c-67c59f150c27"
      },
      "execution_count": 6,
      "outputs": [
        {
          "name": "stdout",
          "output_type": "stream",
          "text": [
            "Menu\n",
            "1. Modify Score\n",
            "2. Exit\n",
            "Enter your choice: (1-2) 1\n",
            "Enter Student ID to modify: 003\n",
            "Enter Subject to modify: BBA\n",
            "Enter new score: 54\n",
            "Score modified successfully\n",
            "Menu\n",
            "1. Modify Score\n",
            "2. Exit\n",
            "Enter your choice: (1-2) 2\n"
          ]
        }
      ]
    },
    {
      "cell_type": "markdown",
      "source": [
        "Saving to drive"
      ],
      "metadata": {
        "id": "66jaHbAns1U_"
      }
    },
    {
      "cell_type": "code",
      "source": [
        "from google.colab import drive\n",
        "drive.mount('/content/drive')"
      ],
      "metadata": {
        "colab": {
          "base_uri": "https://localhost:8080/"
        },
        "id": "ro1ppu7wq73N",
        "outputId": "bd69351d-50e0-4193-e6db-63210cce938b"
      },
      "execution_count": 4,
      "outputs": [
        {
          "output_type": "stream",
          "name": "stdout",
          "text": [
            "Drive already mounted at /content/drive; to attempt to forcibly remount, call drive.mount(\"/content/drive\", force_remount=True).\n"
          ]
        }
      ]
    },
    {
      "cell_type": "code",
      "source": [
        "# import shutil\n",
        "# shutil.copy('studentinfo.csv', '/content/drive/My Drive/studentinfo.csv')"
      ],
      "metadata": {
        "id": "SIj0iKvvs0j2"
      },
      "execution_count": 5,
      "outputs": []
    },
    {
      "cell_type": "markdown",
      "source": [
        "#Data Analysis and Manipulation"
      ],
      "metadata": {
        "id": "apVuyKaJwyEC"
      }
    },
    {
      "cell_type": "markdown",
      "source": [
        "mean,min and max"
      ],
      "metadata": {
        "id": "7G8snUB02X9T"
      }
    },
    {
      "cell_type": "code",
      "source": [
        "import pandas as pd"
      ],
      "metadata": {
        "id": "quqvXMFPwuGy"
      },
      "execution_count": 13,
      "outputs": []
    },
    {
      "cell_type": "code",
      "source": [
        "data= pd.read_csv(\"student_data.csv\")"
      ],
      "metadata": {
        "id": "urTRcjYtwt-6"
      },
      "execution_count": 14,
      "outputs": []
    },
    {
      "cell_type": "code",
      "source": [
        "data"
      ],
      "metadata": {
        "colab": {
          "base_uri": "https://localhost:8080/",
          "height": 349
        },
        "id": "lmo1HOkRwt6R",
        "outputId": "385b065b-5321-40c0-d539-e3ded6ff2ea1"
      },
      "execution_count": 15,
      "outputs": [
        {
          "output_type": "execute_result",
          "data": {
            "text/plain": [
              "   Student ID Student Name Subject  Score  Attendance Percentage  \\\n",
              "0           1        Atifa     STA     89                     90   \n",
              "1           1        Atifa     MAT     75                     80   \n",
              "2           2         Kafi     SWE     90                    100   \n",
              "3           2         Kafi     MAT     85                     80   \n",
              "4           3      Nabisha     BNG     65                     75   \n",
              "5           3      Nabisha     BBA     54                     60   \n",
              "6           4       Samiya     EEE     64                     65   \n",
              "7           4       Samiya     PHY     65                     60   \n",
              "8           5        Mofiz     MAT     82                     60   \n",
              "\n",
              "  Assignment Completion  \n",
              "0                   Yes  \n",
              "1                   Yes  \n",
              "2                    No  \n",
              "3                   Yes  \n",
              "4                    No  \n",
              "5                    No  \n",
              "6                   Yes  \n",
              "7                    No  \n",
              "8                   Yes  "
            ],
            "text/html": [
              "\n",
              "  <div id=\"df-a1a23cf7-e0a8-4300-9873-295ce267a63b\" class=\"colab-df-container\">\n",
              "    <div>\n",
              "<style scoped>\n",
              "    .dataframe tbody tr th:only-of-type {\n",
              "        vertical-align: middle;\n",
              "    }\n",
              "\n",
              "    .dataframe tbody tr th {\n",
              "        vertical-align: top;\n",
              "    }\n",
              "\n",
              "    .dataframe thead th {\n",
              "        text-align: right;\n",
              "    }\n",
              "</style>\n",
              "<table border=\"1\" class=\"dataframe\">\n",
              "  <thead>\n",
              "    <tr style=\"text-align: right;\">\n",
              "      <th></th>\n",
              "      <th>Student ID</th>\n",
              "      <th>Student Name</th>\n",
              "      <th>Subject</th>\n",
              "      <th>Score</th>\n",
              "      <th>Attendance Percentage</th>\n",
              "      <th>Assignment Completion</th>\n",
              "    </tr>\n",
              "  </thead>\n",
              "  <tbody>\n",
              "    <tr>\n",
              "      <th>0</th>\n",
              "      <td>1</td>\n",
              "      <td>Atifa</td>\n",
              "      <td>STA</td>\n",
              "      <td>89</td>\n",
              "      <td>90</td>\n",
              "      <td>Yes</td>\n",
              "    </tr>\n",
              "    <tr>\n",
              "      <th>1</th>\n",
              "      <td>1</td>\n",
              "      <td>Atifa</td>\n",
              "      <td>MAT</td>\n",
              "      <td>75</td>\n",
              "      <td>80</td>\n",
              "      <td>Yes</td>\n",
              "    </tr>\n",
              "    <tr>\n",
              "      <th>2</th>\n",
              "      <td>2</td>\n",
              "      <td>Kafi</td>\n",
              "      <td>SWE</td>\n",
              "      <td>90</td>\n",
              "      <td>100</td>\n",
              "      <td>No</td>\n",
              "    </tr>\n",
              "    <tr>\n",
              "      <th>3</th>\n",
              "      <td>2</td>\n",
              "      <td>Kafi</td>\n",
              "      <td>MAT</td>\n",
              "      <td>85</td>\n",
              "      <td>80</td>\n",
              "      <td>Yes</td>\n",
              "    </tr>\n",
              "    <tr>\n",
              "      <th>4</th>\n",
              "      <td>3</td>\n",
              "      <td>Nabisha</td>\n",
              "      <td>BNG</td>\n",
              "      <td>65</td>\n",
              "      <td>75</td>\n",
              "      <td>No</td>\n",
              "    </tr>\n",
              "    <tr>\n",
              "      <th>5</th>\n",
              "      <td>3</td>\n",
              "      <td>Nabisha</td>\n",
              "      <td>BBA</td>\n",
              "      <td>54</td>\n",
              "      <td>60</td>\n",
              "      <td>No</td>\n",
              "    </tr>\n",
              "    <tr>\n",
              "      <th>6</th>\n",
              "      <td>4</td>\n",
              "      <td>Samiya</td>\n",
              "      <td>EEE</td>\n",
              "      <td>64</td>\n",
              "      <td>65</td>\n",
              "      <td>Yes</td>\n",
              "    </tr>\n",
              "    <tr>\n",
              "      <th>7</th>\n",
              "      <td>4</td>\n",
              "      <td>Samiya</td>\n",
              "      <td>PHY</td>\n",
              "      <td>65</td>\n",
              "      <td>60</td>\n",
              "      <td>No</td>\n",
              "    </tr>\n",
              "    <tr>\n",
              "      <th>8</th>\n",
              "      <td>5</td>\n",
              "      <td>Mofiz</td>\n",
              "      <td>MAT</td>\n",
              "      <td>82</td>\n",
              "      <td>60</td>\n",
              "      <td>Yes</td>\n",
              "    </tr>\n",
              "  </tbody>\n",
              "</table>\n",
              "</div>\n",
              "    <div class=\"colab-df-buttons\">\n",
              "\n",
              "  <div class=\"colab-df-container\">\n",
              "    <button class=\"colab-df-convert\" onclick=\"convertToInteractive('df-a1a23cf7-e0a8-4300-9873-295ce267a63b')\"\n",
              "            title=\"Convert this dataframe to an interactive table.\"\n",
              "            style=\"display:none;\">\n",
              "\n",
              "  <svg xmlns=\"http://www.w3.org/2000/svg\" height=\"24px\" viewBox=\"0 -960 960 960\">\n",
              "    <path d=\"M120-120v-720h720v720H120Zm60-500h600v-160H180v160Zm220 220h160v-160H400v160Zm0 220h160v-160H400v160ZM180-400h160v-160H180v160Zm440 0h160v-160H620v160ZM180-180h160v-160H180v160Zm440 0h160v-160H620v160Z\"/>\n",
              "  </svg>\n",
              "    </button>\n",
              "\n",
              "  <style>\n",
              "    .colab-df-container {\n",
              "      display:flex;\n",
              "      gap: 12px;\n",
              "    }\n",
              "\n",
              "    .colab-df-convert {\n",
              "      background-color: #E8F0FE;\n",
              "      border: none;\n",
              "      border-radius: 50%;\n",
              "      cursor: pointer;\n",
              "      display: none;\n",
              "      fill: #1967D2;\n",
              "      height: 32px;\n",
              "      padding: 0 0 0 0;\n",
              "      width: 32px;\n",
              "    }\n",
              "\n",
              "    .colab-df-convert:hover {\n",
              "      background-color: #E2EBFA;\n",
              "      box-shadow: 0px 1px 2px rgba(60, 64, 67, 0.3), 0px 1px 3px 1px rgba(60, 64, 67, 0.15);\n",
              "      fill: #174EA6;\n",
              "    }\n",
              "\n",
              "    .colab-df-buttons div {\n",
              "      margin-bottom: 4px;\n",
              "    }\n",
              "\n",
              "    [theme=dark] .colab-df-convert {\n",
              "      background-color: #3B4455;\n",
              "      fill: #D2E3FC;\n",
              "    }\n",
              "\n",
              "    [theme=dark] .colab-df-convert:hover {\n",
              "      background-color: #434B5C;\n",
              "      box-shadow: 0px 1px 3px 1px rgba(0, 0, 0, 0.15);\n",
              "      filter: drop-shadow(0px 1px 2px rgba(0, 0, 0, 0.3));\n",
              "      fill: #FFFFFF;\n",
              "    }\n",
              "  </style>\n",
              "\n",
              "    <script>\n",
              "      const buttonEl =\n",
              "        document.querySelector('#df-a1a23cf7-e0a8-4300-9873-295ce267a63b button.colab-df-convert');\n",
              "      buttonEl.style.display =\n",
              "        google.colab.kernel.accessAllowed ? 'block' : 'none';\n",
              "\n",
              "      async function convertToInteractive(key) {\n",
              "        const element = document.querySelector('#df-a1a23cf7-e0a8-4300-9873-295ce267a63b');\n",
              "        const dataTable =\n",
              "          await google.colab.kernel.invokeFunction('convertToInteractive',\n",
              "                                                    [key], {});\n",
              "        if (!dataTable) return;\n",
              "\n",
              "        const docLinkHtml = 'Like what you see? Visit the ' +\n",
              "          '<a target=\"_blank\" href=https://colab.research.google.com/notebooks/data_table.ipynb>data table notebook</a>'\n",
              "          + ' to learn more about interactive tables.';\n",
              "        element.innerHTML = '';\n",
              "        dataTable['output_type'] = 'display_data';\n",
              "        await google.colab.output.renderOutput(dataTable, element);\n",
              "        const docLink = document.createElement('div');\n",
              "        docLink.innerHTML = docLinkHtml;\n",
              "        element.appendChild(docLink);\n",
              "      }\n",
              "    </script>\n",
              "  </div>\n",
              "\n",
              "\n",
              "<div id=\"df-a4f80501-8cd5-4d47-bf21-549631afe2eb\">\n",
              "  <button class=\"colab-df-quickchart\" onclick=\"quickchart('df-a4f80501-8cd5-4d47-bf21-549631afe2eb')\"\n",
              "            title=\"Suggest charts\"\n",
              "            style=\"display:none;\">\n",
              "\n",
              "<svg xmlns=\"http://www.w3.org/2000/svg\" height=\"24px\"viewBox=\"0 0 24 24\"\n",
              "     width=\"24px\">\n",
              "    <g>\n",
              "        <path d=\"M19 3H5c-1.1 0-2 .9-2 2v14c0 1.1.9 2 2 2h14c1.1 0 2-.9 2-2V5c0-1.1-.9-2-2-2zM9 17H7v-7h2v7zm4 0h-2V7h2v10zm4 0h-2v-4h2v4z\"/>\n",
              "    </g>\n",
              "</svg>\n",
              "  </button>\n",
              "\n",
              "<style>\n",
              "  .colab-df-quickchart {\n",
              "      --bg-color: #E8F0FE;\n",
              "      --fill-color: #1967D2;\n",
              "      --hover-bg-color: #E2EBFA;\n",
              "      --hover-fill-color: #174EA6;\n",
              "      --disabled-fill-color: #AAA;\n",
              "      --disabled-bg-color: #DDD;\n",
              "  }\n",
              "\n",
              "  [theme=dark] .colab-df-quickchart {\n",
              "      --bg-color: #3B4455;\n",
              "      --fill-color: #D2E3FC;\n",
              "      --hover-bg-color: #434B5C;\n",
              "      --hover-fill-color: #FFFFFF;\n",
              "      --disabled-bg-color: #3B4455;\n",
              "      --disabled-fill-color: #666;\n",
              "  }\n",
              "\n",
              "  .colab-df-quickchart {\n",
              "    background-color: var(--bg-color);\n",
              "    border: none;\n",
              "    border-radius: 50%;\n",
              "    cursor: pointer;\n",
              "    display: none;\n",
              "    fill: var(--fill-color);\n",
              "    height: 32px;\n",
              "    padding: 0;\n",
              "    width: 32px;\n",
              "  }\n",
              "\n",
              "  .colab-df-quickchart:hover {\n",
              "    background-color: var(--hover-bg-color);\n",
              "    box-shadow: 0 1px 2px rgba(60, 64, 67, 0.3), 0 1px 3px 1px rgba(60, 64, 67, 0.15);\n",
              "    fill: var(--button-hover-fill-color);\n",
              "  }\n",
              "\n",
              "  .colab-df-quickchart-complete:disabled,\n",
              "  .colab-df-quickchart-complete:disabled:hover {\n",
              "    background-color: var(--disabled-bg-color);\n",
              "    fill: var(--disabled-fill-color);\n",
              "    box-shadow: none;\n",
              "  }\n",
              "\n",
              "  .colab-df-spinner {\n",
              "    border: 2px solid var(--fill-color);\n",
              "    border-color: transparent;\n",
              "    border-bottom-color: var(--fill-color);\n",
              "    animation:\n",
              "      spin 1s steps(1) infinite;\n",
              "  }\n",
              "\n",
              "  @keyframes spin {\n",
              "    0% {\n",
              "      border-color: transparent;\n",
              "      border-bottom-color: var(--fill-color);\n",
              "      border-left-color: var(--fill-color);\n",
              "    }\n",
              "    20% {\n",
              "      border-color: transparent;\n",
              "      border-left-color: var(--fill-color);\n",
              "      border-top-color: var(--fill-color);\n",
              "    }\n",
              "    30% {\n",
              "      border-color: transparent;\n",
              "      border-left-color: var(--fill-color);\n",
              "      border-top-color: var(--fill-color);\n",
              "      border-right-color: var(--fill-color);\n",
              "    }\n",
              "    40% {\n",
              "      border-color: transparent;\n",
              "      border-right-color: var(--fill-color);\n",
              "      border-top-color: var(--fill-color);\n",
              "    }\n",
              "    60% {\n",
              "      border-color: transparent;\n",
              "      border-right-color: var(--fill-color);\n",
              "    }\n",
              "    80% {\n",
              "      border-color: transparent;\n",
              "      border-right-color: var(--fill-color);\n",
              "      border-bottom-color: var(--fill-color);\n",
              "    }\n",
              "    90% {\n",
              "      border-color: transparent;\n",
              "      border-bottom-color: var(--fill-color);\n",
              "    }\n",
              "  }\n",
              "</style>\n",
              "\n",
              "  <script>\n",
              "    async function quickchart(key) {\n",
              "      const quickchartButtonEl =\n",
              "        document.querySelector('#' + key + ' button');\n",
              "      quickchartButtonEl.disabled = true;  // To prevent multiple clicks.\n",
              "      quickchartButtonEl.classList.add('colab-df-spinner');\n",
              "      try {\n",
              "        const charts = await google.colab.kernel.invokeFunction(\n",
              "            'suggestCharts', [key], {});\n",
              "      } catch (error) {\n",
              "        console.error('Error during call to suggestCharts:', error);\n",
              "      }\n",
              "      quickchartButtonEl.classList.remove('colab-df-spinner');\n",
              "      quickchartButtonEl.classList.add('colab-df-quickchart-complete');\n",
              "    }\n",
              "    (() => {\n",
              "      let quickchartButtonEl =\n",
              "        document.querySelector('#df-a4f80501-8cd5-4d47-bf21-549631afe2eb button');\n",
              "      quickchartButtonEl.style.display =\n",
              "        google.colab.kernel.accessAllowed ? 'block' : 'none';\n",
              "    })();\n",
              "  </script>\n",
              "</div>\n",
              "\n",
              "  <div id=\"id_546debb8-ec0e-41d7-aafa-4b99fba64aa6\">\n",
              "    <style>\n",
              "      .colab-df-generate {\n",
              "        background-color: #E8F0FE;\n",
              "        border: none;\n",
              "        border-radius: 50%;\n",
              "        cursor: pointer;\n",
              "        display: none;\n",
              "        fill: #1967D2;\n",
              "        height: 32px;\n",
              "        padding: 0 0 0 0;\n",
              "        width: 32px;\n",
              "      }\n",
              "\n",
              "      .colab-df-generate:hover {\n",
              "        background-color: #E2EBFA;\n",
              "        box-shadow: 0px 1px 2px rgba(60, 64, 67, 0.3), 0px 1px 3px 1px rgba(60, 64, 67, 0.15);\n",
              "        fill: #174EA6;\n",
              "      }\n",
              "\n",
              "      [theme=dark] .colab-df-generate {\n",
              "        background-color: #3B4455;\n",
              "        fill: #D2E3FC;\n",
              "      }\n",
              "\n",
              "      [theme=dark] .colab-df-generate:hover {\n",
              "        background-color: #434B5C;\n",
              "        box-shadow: 0px 1px 3px 1px rgba(0, 0, 0, 0.15);\n",
              "        filter: drop-shadow(0px 1px 2px rgba(0, 0, 0, 0.3));\n",
              "        fill: #FFFFFF;\n",
              "      }\n",
              "    </style>\n",
              "    <button class=\"colab-df-generate\" onclick=\"generateWithVariable('data')\"\n",
              "            title=\"Generate code using this dataframe.\"\n",
              "            style=\"display:none;\">\n",
              "\n",
              "  <svg xmlns=\"http://www.w3.org/2000/svg\" height=\"24px\"viewBox=\"0 0 24 24\"\n",
              "       width=\"24px\">\n",
              "    <path d=\"M7,19H8.4L18.45,9,17,7.55,7,17.6ZM5,21V16.75L18.45,3.32a2,2,0,0,1,2.83,0l1.4,1.43a1.91,1.91,0,0,1,.58,1.4,1.91,1.91,0,0,1-.58,1.4L9.25,21ZM18.45,9,17,7.55Zm-12,3A5.31,5.31,0,0,0,4.9,8.1,5.31,5.31,0,0,0,1,6.5,5.31,5.31,0,0,0,4.9,4.9,5.31,5.31,0,0,0,6.5,1,5.31,5.31,0,0,0,8.1,4.9,5.31,5.31,0,0,0,12,6.5,5.46,5.46,0,0,0,6.5,12Z\"/>\n",
              "  </svg>\n",
              "    </button>\n",
              "    <script>\n",
              "      (() => {\n",
              "      const buttonEl =\n",
              "        document.querySelector('#id_546debb8-ec0e-41d7-aafa-4b99fba64aa6 button.colab-df-generate');\n",
              "      buttonEl.style.display =\n",
              "        google.colab.kernel.accessAllowed ? 'block' : 'none';\n",
              "\n",
              "      buttonEl.onclick = () => {\n",
              "        google.colab.notebook.generateWithVariable('data');\n",
              "      }\n",
              "      })();\n",
              "    </script>\n",
              "  </div>\n",
              "\n",
              "    </div>\n",
              "  </div>\n"
            ],
            "application/vnd.google.colaboratory.intrinsic+json": {
              "type": "dataframe",
              "variable_name": "data",
              "summary": "{\n  \"name\": \"data\",\n  \"rows\": 9,\n  \"fields\": [\n    {\n      \"column\": \"Student ID\",\n      \"properties\": {\n        \"dtype\": \"number\",\n        \"std\": 1,\n        \"min\": 1,\n        \"max\": 5,\n        \"num_unique_values\": 5,\n        \"samples\": [\n          2,\n          5,\n          3\n        ],\n        \"semantic_type\": \"\",\n        \"description\": \"\"\n      }\n    },\n    {\n      \"column\": \"Student Name\",\n      \"properties\": {\n        \"dtype\": \"string\",\n        \"num_unique_values\": 5,\n        \"samples\": [\n          \"Kafi\",\n          \"Mofiz\",\n          \"Nabisha\"\n        ],\n        \"semantic_type\": \"\",\n        \"description\": \"\"\n      }\n    },\n    {\n      \"column\": \"Subject\",\n      \"properties\": {\n        \"dtype\": \"string\",\n        \"num_unique_values\": 7,\n        \"samples\": [\n          \"STA\",\n          \"MAT\",\n          \"EEE\"\n        ],\n        \"semantic_type\": \"\",\n        \"description\": \"\"\n      }\n    },\n    {\n      \"column\": \"Score\",\n      \"properties\": {\n        \"dtype\": \"number\",\n        \"std\": 12,\n        \"min\": 54,\n        \"max\": 90,\n        \"num_unique_values\": 8,\n        \"samples\": [\n          75,\n          54,\n          89\n        ],\n        \"semantic_type\": \"\",\n        \"description\": \"\"\n      }\n    },\n    {\n      \"column\": \"Attendance Percentage\",\n      \"properties\": {\n        \"dtype\": \"number\",\n        \"std\": 14,\n        \"min\": 60,\n        \"max\": 100,\n        \"num_unique_values\": 6,\n        \"samples\": [\n          90,\n          80,\n          65\n        ],\n        \"semantic_type\": \"\",\n        \"description\": \"\"\n      }\n    },\n    {\n      \"column\": \"Assignment Completion\",\n      \"properties\": {\n        \"dtype\": \"category\",\n        \"num_unique_values\": 2,\n        \"samples\": [\n          \"No\",\n          \"Yes\"\n        ],\n        \"semantic_type\": \"\",\n        \"description\": \"\"\n      }\n    }\n  ]\n}"
            }
          },
          "metadata": {},
          "execution_count": 15
        }
      ]
    },
    {
      "cell_type": "code",
      "source": [
        "student_stats= data.groupby(['Student ID','Student Name'])['Score'].agg(['mean', 'max', 'min'])\n",
        "student_stats = student_stats.rename(columns={\n",
        "    'mean': 'Average Score',\n",
        "    'max': 'Highest Score',\n",
        "    'min': 'Lowest Score'\n",
        "})\n",
        "print(student_stats)"
      ],
      "metadata": {
        "colab": {
          "base_uri": "https://localhost:8080/"
        },
        "id": "IRLconvOwt1x",
        "outputId": "8f681d77-11ce-40bf-e117-89efd28022ca"
      },
      "execution_count": 16,
      "outputs": [
        {
          "output_type": "stream",
          "name": "stdout",
          "text": [
            "                         Average Score  Highest Score  Lowest Score\n",
            "Student ID Student Name                                            \n",
            "1          Atifa                  82.0             89            75\n",
            "2          Kafi                   87.5             90            85\n",
            "3          Nabisha                59.5             65            54\n",
            "4          Samiya                 64.5             65            64\n",
            "5          Mofiz                  82.0             82            82\n"
          ]
        }
      ]
    },
    {
      "cell_type": "markdown",
      "source": [
        "Attendence <75% or missing assignments"
      ],
      "metadata": {
        "id": "LoLvtJwZ2fH0"
      }
    },
    {
      "cell_type": "code",
      "source": [
        "low_attendence_or_missing_assignments = data[(data['Attendance Percentage'] < 75) | (data['Assignment Completion'] == 'No')]\n",
        "print(low_attendence_or_missing_assignments)"
      ],
      "metadata": {
        "colab": {
          "base_uri": "https://localhost:8080/"
        },
        "id": "xKjkXUOxwtvx",
        "outputId": "6c0b754c-ac8a-4177-8291-3371f9518658"
      },
      "execution_count": 17,
      "outputs": [
        {
          "output_type": "stream",
          "name": "stdout",
          "text": [
            "   Student ID Student Name Subject  Score  Attendance Percentage  \\\n",
            "2           2         Kafi     SWE     90                    100   \n",
            "4           3      Nabisha     BNG     65                     75   \n",
            "5           3      Nabisha     BBA     54                     60   \n",
            "6           4       Samiya     EEE     64                     65   \n",
            "7           4       Samiya     PHY     65                     60   \n",
            "8           5        Mofiz     MAT     82                     60   \n",
            "\n",
            "  Assignment Completion  \n",
            "2                    No  \n",
            "4                    No  \n",
            "5                    No  \n",
            "6                   Yes  \n",
            "7                    No  \n",
            "8                   Yes  \n"
          ]
        }
      ]
    },
    {
      "cell_type": "markdown",
      "source": [
        "Filter students failing a subject"
      ],
      "metadata": {
        "id": "z2J5FvV329l8"
      }
    },
    {
      "cell_type": "code",
      "source": [
        "data['Score'] = pd.to_numeric(data['Score'])\n",
        "failed_students = data[(data['Score'] < 80) & (data['Subject'] == 'OCG')][['Student ID','Student Name','Subject']]\n",
        "print(failed_students)"
      ],
      "metadata": {
        "colab": {
          "base_uri": "https://localhost:8080/"
        },
        "id": "RoMiBjCh3Ckc",
        "outputId": "d1ba7eb0-08d9-4288-b02b-cc560a9760f0"
      },
      "execution_count": 18,
      "outputs": [
        {
          "output_type": "stream",
          "name": "stdout",
          "text": [
            "Empty DataFrame\n",
            "Columns: [Student ID, Student Name, Subject]\n",
            "Index: []\n"
          ]
        }
      ]
    },
    {
      "cell_type": "markdown",
      "source": [
        "Convert score to integer"
      ],
      "metadata": {
        "id": "uJqPPFR74P-b"
      }
    },
    {
      "cell_type": "code",
      "source": [
        "if data['Score'].dtype == 'str':\n",
        "  data['Score'] = data['Score'].astype(int)\n",
        "  print(\"Score is converted to an integer type.\")\n",
        "  if data['Score'].dtype == 'int64' or data['Score'].dtype == 'int32':\n",
        "    print(\"Score is converted to an integer type.\")"
      ],
      "metadata": {
        "id": "guzUAJWZwtdT"
      },
      "execution_count": 19,
      "outputs": []
    },
    {
      "cell_type": "markdown",
      "source": [
        "#Visualization"
      ],
      "metadata": {
        "id": "afVww_1i43jw"
      }
    },
    {
      "cell_type": "code",
      "source": [
        "import matplotlib.pyplot as plt"
      ],
      "metadata": {
        "id": "vjVYTrl227ss"
      },
      "execution_count": 20,
      "outputs": []
    },
    {
      "cell_type": "code",
      "source": [
        "average_scores = data.groupby('Subject')['Score'].mean()\n",
        "\n",
        "average_scores.plot(kind='bar', figsize=(7, 5))\n",
        "plt.title('Average Scores by Subject')\n",
        "plt.xlabel('Subject')\n",
        "plt.ylabel('Average Score')\n",
        "plt.show()"
      ],
      "metadata": {
        "colab": {
          "base_uri": "https://localhost:8080/",
          "height": 504
        },
        "id": "KObEi0Vq27lk",
        "outputId": "57932f82-e2c2-49d8-b49d-e1aa02316865"
      },
      "execution_count": 23,
      "outputs": [
        {
          "output_type": "display_data",
          "data": {
            "text/plain": [
              "<Figure size 700x500 with 1 Axes>"
            ],
            "image/png": "[encoded data removed]"
          },
          "metadata": {}
        }
      ]
    },
    {
      "cell_type": "markdown",
      "source": [
        "Pie chart of attendence percentage categories"
      ],
      "metadata": {
        "id": "oCbFbP1h50iP"
      }
    },
    {
      "cell_type": "code",
      "source": [
        "import matplotlib.pyplot as plt"
      ],
      "metadata": {
        "id": "9YjBX6HBWgi9"
      },
      "execution_count": 24,
      "outputs": []
    },
    {
      "cell_type": "code",
      "source": [
        "import pandas as pd"
      ],
      "metadata": {
        "id": "V1N6cGnDbQtl"
      },
      "execution_count": 25,
      "outputs": []
    },
    {
      "cell_type": "code",
      "source": [
        "data['Attendance Percentage'] = pd.to_numeric(data['Attendance Percentage'])\n",
        "\n",
        "\n",
        "below_80 = data['Attendance Percentage'] < 80\n",
        "between_80_85 = (data['Attendance Percentage'] >= 80) & (data['Attendance Percentage'] <= 85)\n",
        "above_90 = data['Attendance Percentage'] > 90\n",
        "\n",
        "\n",
        "counts = [below_80.sum(), between_80_85.sum(), above_90.sum()]\n",
        "labels = ['<80%', '80%-85%', '>90%']\n",
        "\n",
        "# Create the pie chart\n",
        "plt.pie(counts, labels=labels, autopct='%1.1f%%', startangle=90)\n",
        "plt.title('Attendance Percentage Categories')\n",
        "plt.show()"
      ],
      "metadata": {
        "id": "MyrCPsA627iG",
        "colab": {
          "base_uri": "https://localhost:8080/",
          "height": 428
        },
        "outputId": "b0f61e4c-b826-4948-db68-3122bd4f0920"
      },
      "execution_count": 27,
      "outputs": [
        {
          "output_type": "display_data",
          "data": {
            "text/plain": [
              "<Figure size 640x480 with 1 Axes>"
            ],
            "image/png": "[encoded data removed]"
          },
          "metadata": {}
        }
      ]
    },
    {
      "cell_type": "markdown",
      "source": [
        "Creating a line graph"
      ],
      "metadata": {
        "id": "_oGRxBebbnss"
      }
    },
    {
      "cell_type": "code",
      "source": [
        "import matplotlib.pyplot as plt\n",
        "import pandas as pd"
      ],
      "metadata": {
        "id": "1oLPqz5Fbe6Z"
      },
      "execution_count": 28,
      "outputs": []
    },
    {
      "cell_type": "code",
      "source": [
        "def lineplot_student_performance():\n",
        "  student_id = input(\"Enter Student ID to plot: \")\n",
        "\n",
        "  student_data = data[data['Student ID'] == student_id]\n",
        "\n",
        "  plt.plot(student_data.index, student_data['Score'], marker='*')\n",
        "  plt.title(f'Performance Trend for Student ID: {student_id}')\n",
        "  plt.xlabel('Time')\n",
        "  plt.ylabel('Score')\n",
        "  plt.grid(True)\n",
        "  plt.show()"
      ],
      "metadata": {
        "id": "ySaK8GERbe0y"
      },
      "execution_count": 29,
      "outputs": []
    },
    {
      "cell_type": "code",
      "source": [
        "#generate line plot of student\n",
        "while True:\n",
        "  print(\"Menu\")\n",
        "  print(\"1. Plot Student Performance\")\n",
        "  print(\"2. Exit\")\n",
        "\n",
        "  choice = input(\"Enter your choice (1-2): \").strip()\n",
        "\n",
        "  if choice == \"1\":\n",
        "    lineplot_student_performance()\n",
        "  if choice == \"2\":\n",
        "    print(\"Exiting the program\")\n",
        "    break"
      ],
      "metadata": {
        "colab": {
          "base_uri": "https://localhost:8080/",
          "height": 1000
        },
        "id": "qvl5vLUKvbOT",
        "outputId": "d18f4558-80ce-4a68-f610-aec5a083da6e"
      },
      "execution_count": 30,
      "outputs": [
        {
          "name": "stdout",
          "output_type": "stream",
          "text": [
            "Menu\n",
            "1. Plot Student Performance\n",
            "2. Exit\n",
            "Enter your choice (1-2): 1\n",
            "Enter Student ID to plot: 003\n"
          ]
        },
        {
          "output_type": "display_data",
          "data": {
            "text/plain": [
              "<Figure size 640x480 with 1 Axes>"
            ],
            "image/png": "[encoded data removed]"
          },
          "metadata": {}
        },
        {
          "name": "stdout",
          "output_type": "stream",
          "text": [
            "Menu\n",
            "1. Plot Student Performance\n",
            "2. Exit\n",
            "Enter your choice (1-2): 1\n",
            "Enter Student ID to plot: 001\n"
          ]
        },
        {
          "output_type": "display_data",
          "data": {
            "text/plain": [
              "<Figure size 640x480 with 1 Axes>"
            ],
            "image/png": "[encoded data removed]"
          },
          "metadata": {}
        },
        {
          "output_type": "stream",
          "name": "stdout",
          "text": [
            "Menu\n",
            "1. Plot Student Performance\n",
            "2. Exit\n",
            "Enter your choice (1-2): 2\n",
            "Exiting the program\n"
          ]
        }
      ]
    },
    {
      "cell_type": "markdown",
      "source": [
        "**Applying Functions and** **Logic**"
      ],
      "metadata": {
        "id": "KtuMIC9Wcwu5"
      }
    },
    {
      "cell_type": "markdown",
      "source": [],
      "metadata": {
        "id": "Xfjy_sb-dBA5"
      }
    },
    {
      "cell_type": "markdown",
      "source": [
        "Calculating aggregate scores for each student"
      ],
      "metadata": {
        "id": "9q1M9lZpdhR4"
      }
    },
    {
      "cell_type": "code",
      "source": [
        "import pandas as pd"
      ],
      "metadata": {
        "id": "MWeld-xhcs0y"
      },
      "execution_count": 31,
      "outputs": []
    },
    {
      "cell_type": "code",
      "source": [
        "data = pd.read_csv(\"student_data.csv\")"
      ],
      "metadata": {
        "id": "hWZWBoSzcspr"
      },
      "execution_count": 32,
      "outputs": []
    },
    {
      "cell_type": "code",
      "source": [
        "student_stats = data.groupby(['Student ID','Student Name'])['Score'].agg(['mean', 'max', 'min'])\n",
        "student_stats = student_stats.rename(columns={\n",
        "    'mean': 'Average Score',\n",
        "    'max': 'Highest Score',\n",
        "    'min': 'Lowest Score'\n",
        "})\n",
        "print(student_stats)"
      ],
      "metadata": {
        "colab": {
          "base_uri": "https://localhost:8080/"
        },
        "id": "pmkKDL5XbesJ",
        "outputId": "9c378604-3a71-4bf4-99f3-2296f3c8c5df"
      },
      "execution_count": 33,
      "outputs": [
        {
          "output_type": "stream",
          "name": "stdout",
          "text": [
            "                         Average Score  Highest Score  Lowest Score\n",
            "Student ID Student Name                                            \n",
            "1          Atifa                  82.0             89            75\n",
            "2          Kafi                   87.5             90            85\n",
            "3          Nabisha                59.5             65            54\n",
            "4          Samiya                 64.5             65            64\n",
            "5          Mofiz                  82.0             82            82\n"
          ]
        }
      ]
    },
    {
      "cell_type": "markdown",
      "source": [
        "Determining grade (A/B/C/Fail) based on scoring criteria"
      ],
      "metadata": {
        "id": "NQtFZhTUdrmM"
      }
    },
    {
      "cell_type": "code",
      "source": [
        "def assign_grade(score):\n",
        "       if score >= 85:\n",
        "           return 'A'\n",
        "       elif score >= 80:\n",
        "           return 'B'\n",
        "       elif score >= 75:\n",
        "           return 'C'\n",
        "       else:\n",
        "           return 'Fail'"
      ],
      "metadata": {
        "id": "LdFfKHkldoZ6"
      },
      "execution_count": 34,
      "outputs": []
    },
    {
      "cell_type": "code",
      "source": [
        "data['Grade'] = data['Score'].apply(assign_grade)\n",
        "print(data)"
      ],
      "metadata": {
        "id": "g7971B87doPD",
        "colab": {
          "base_uri": "https://localhost:8080/"
        },
        "outputId": "7370fe84-a43a-4cf8-db4c-dcaa5f0f97a5"
      },
      "execution_count": 36,
      "outputs": [
        {
          "output_type": "stream",
          "name": "stdout",
          "text": [
            "   Student ID Student Name Subject  Score  Attendance Percentage  \\\n",
            "0           1        Atifa     STA     89                     90   \n",
            "1           1        Atifa     MAT     75                     80   \n",
            "2           2         Kafi     SWE     90                    100   \n",
            "3           2         Kafi     MAT     85                     80   \n",
            "4           3      Nabisha     BNG     65                     75   \n",
            "5           3      Nabisha     BBA     54                     60   \n",
            "6           4       Samiya     EEE     64                     65   \n",
            "7           4       Samiya     PHY     65                     60   \n",
            "8           5        Mofiz     MAT     82                     60   \n",
            "\n",
            "  Assignment Completion Grade  \n",
            "0                   Yes     A  \n",
            "1                   Yes     C  \n",
            "2                    No     A  \n",
            "3                   Yes     A  \n",
            "4                    No  Fail  \n",
            "5                    No  Fail  \n",
            "6                   Yes  Fail  \n",
            "7                    No  Fail  \n",
            "8                   Yes     B  \n"
          ]
        }
      ]
    },
    {
      "cell_type": "markdown",
      "source": [
        "Generating student performance reports in a user-friendly format."
      ],
      "metadata": {
        "id": "DyfpRtPZwaia"
      }
    },
    {
      "cell_type": "code",
      "source": [
        "import pandas as pd"
      ],
      "metadata": {
        "id": "nDYhWURIdoIB"
      },
      "execution_count": 37,
      "outputs": []
    },
    {
      "cell_type": "code",
      "source": [
        "from tabulate import tabulate"
      ],
      "metadata": {
        "id": "wavoYJCFxVPv"
      },
      "execution_count": 45,
      "outputs": []
    },
    {
      "cell_type": "code",
      "source": [
        "def generate_student_report(student_id):\n",
        "    student_data = data[data['Student ID'] == student_id]\n",
        "\n",
        "    # Subject-wise Scores Table\n",
        "    subject_scores = student_data[['Subject', 'Score', 'Grade']]\n",
        "    subject_scores_table = tabulate(subject_scores, headers='keys', tablefmt='psql')\n",
        "\n",
        "    report = f\"\"\"\n",
        "    Student Performance Report\n",
        "\n",
        "    Student ID: {student_id}\n",
        "    Student Name: {student_data['Student Name'].iloc[0]}\n",
        "\n",
        "    Subject-wise Scores:\n",
        "    {subject_scores_table}\n",
        "\n",
        "    Average Score: {student_data['Score'].mean():.2f}\n",
        "    Highest Score: {student_data['Score'].max()}\n",
        "    Lowest Score: {student_data['Score'].min()}\n",
        "    Attendance Percentage: {student_data['Attendance Percentage'].iloc[0]}%\n",
        "    Assignment Completion: {student_data['Assignment Completion'].iloc[0]}\n",
        "    \"\"\"\n",
        "    print(report)"
      ],
      "metadata": {
        "id": "PnfhU7GZxVLc"
      },
      "execution_count": 46,
      "outputs": []
    },
    {
      "cell_type": "code",
      "source": [
        "student_id = input(\"Enter Student ID to generate report: \")\n",
        "generate_student_report(student_id)"
      ],
      "metadata": {
        "colab": {
          "base_uri": "https://localhost:8080/",
          "height": 321
        },
        "id": "YIf6dZOXx_Er",
        "outputId": "4f5367dc-4c35-402e-8846-17bc0bb08eca"
      },
      "execution_count": 49,
      "outputs": [
        {
          "output_type": "error",
          "ename": "KeyboardInterrupt",
          "evalue": "Interrupted by user",
          "traceback": [
            "\u001b[0;31m---------------------------------------------------------------------------\u001b[0m",
            "\u001b[0;31mKeyboardInterrupt\u001b[0m                         Traceback (most recent call last)",
            "\u001b[0;32m<ipython-input-49-a613596a6ace>\u001b[0m in \u001b[0;36m<cell line: 1>\u001b[0;34m()\u001b[0m\n\u001b[0;32m----> 1\u001b[0;31m \u001b[0mstudent_id\u001b[0m \u001b[0;34m=\u001b[0m \u001b[0minput\u001b[0m\u001b[0;34m(\u001b[0m\u001b[0;34m\"Enter Student ID to generate report: \"\u001b[0m\u001b[0;34m)\u001b[0m\u001b[0;34m\u001b[0m\u001b[0;34m\u001b[0m\u001b[0m\n\u001b[0m\u001b[1;32m      2\u001b[0m \u001b[0mgenerate_student_report\u001b[0m\u001b[0;34m(\u001b[0m\u001b[0mstudent_id\u001b[0m\u001b[0;34m)\u001b[0m\u001b[0;34m\u001b[0m\u001b[0;34m\u001b[0m\u001b[0m\n",
            "\u001b[0;32m/usr/local/lib/python3.10/dist-packages/ipykernel/kernelbase.py\u001b[0m in \u001b[0;36mraw_input\u001b[0;34m(self, prompt)\u001b[0m\n\u001b[1;32m    849\u001b[0m                 \u001b[0;34m\"raw_input was called, but this frontend does not support input requests.\"\u001b[0m\u001b[0;34m\u001b[0m\u001b[0;34m\u001b[0m\u001b[0m\n\u001b[1;32m    850\u001b[0m             )\n\u001b[0;32m--> 851\u001b[0;31m         return self._input_request(str(prompt),\n\u001b[0m\u001b[1;32m    852\u001b[0m             \u001b[0mself\u001b[0m\u001b[0;34m.\u001b[0m\u001b[0m_parent_ident\u001b[0m\u001b[0;34m,\u001b[0m\u001b[0;34m\u001b[0m\u001b[0;34m\u001b[0m\u001b[0m\n\u001b[1;32m    853\u001b[0m             \u001b[0mself\u001b[0m\u001b[0;34m.\u001b[0m\u001b[0m_parent_header\u001b[0m\u001b[0;34m,\u001b[0m\u001b[0;34m\u001b[0m\u001b[0;34m\u001b[0m\u001b[0m\n",
            "\u001b[0;32m/usr/local/lib/python3.10/dist-packages/ipykernel/kernelbase.py\u001b[0m in \u001b[0;36m_input_request\u001b[0;34m(self, prompt, ident, parent, password)\u001b[0m\n\u001b[1;32m    893\u001b[0m             \u001b[0;32mexcept\u001b[0m \u001b[0mKeyboardInterrupt\u001b[0m\u001b[0;34m:\u001b[0m\u001b[0;34m\u001b[0m\u001b[0;34m\u001b[0m\u001b[0m\n\u001b[1;32m    894\u001b[0m                 \u001b[0;31m# re-raise KeyboardInterrupt, to truncate traceback\u001b[0m\u001b[0;34m\u001b[0m\u001b[0;34m\u001b[0m\u001b[0m\n\u001b[0;32m--> 895\u001b[0;31m                 \u001b[0;32mraise\u001b[0m \u001b[0mKeyboardInterrupt\u001b[0m\u001b[0;34m(\u001b[0m\u001b[0;34m\"Interrupted by user\"\u001b[0m\u001b[0;34m)\u001b[0m \u001b[0;32mfrom\u001b[0m \u001b[0;32mNone\u001b[0m\u001b[0;34m\u001b[0m\u001b[0;34m\u001b[0m\u001b[0m\n\u001b[0m\u001b[1;32m    896\u001b[0m             \u001b[0;32mexcept\u001b[0m \u001b[0mException\u001b[0m \u001b[0;32mas\u001b[0m \u001b[0me\u001b[0m\u001b[0;34m:\u001b[0m\u001b[0;34m\u001b[0m\u001b[0;34m\u001b[0m\u001b[0m\n\u001b[1;32m    897\u001b[0m                 \u001b[0mself\u001b[0m\u001b[0;34m.\u001b[0m\u001b[0mlog\u001b[0m\u001b[0;34m.\u001b[0m\u001b[0mwarning\u001b[0m\u001b[0;34m(\u001b[0m\u001b[0;34m\"Invalid Message:\"\u001b[0m\u001b[0;34m,\u001b[0m \u001b[0mexc_info\u001b[0m\u001b[0;34m=\u001b[0m\u001b[0;32mTrue\u001b[0m\u001b[0;34m)\u001b[0m\u001b[0;34m\u001b[0m\u001b[0;34m\u001b[0m\u001b[0m\n",
            "\u001b[0;31mKeyboardInterrupt\u001b[0m: Interrupted by user"
          ]
        }
      ]
    },
    {
      "cell_type": "code",
      "source": [],
      "metadata": {
        "id": "PlXml8FuyIBq"
      },
      "execution_count": null,
      "outputs": []
    },
    {
      "cell_type": "code",
      "source": [],
      "metadata": {
        "id": "DUj2tXKgyH3j"
      },
      "execution_count": null,
      "outputs": []
    },
    {
      "cell_type": "code",
      "source": [],
      "metadata": {
        "id": "QRuCzjr3x-_j"
      },
      "execution_count": null,
      "outputs": []
    }
  ]
}